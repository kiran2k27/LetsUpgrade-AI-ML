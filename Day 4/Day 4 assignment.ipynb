{
 "cells": [
  {
   "cell_type": "markdown",
   "metadata": {},
   "source": [
    "Question 1 :\n",
    "Research on whether addition, subtraction, multiplication, division, floor division and modulo\n",
    "operations be performed on complex numbers. Based on your study, implement a Python\n",
    "program to demonstrate these operations."
   ]
  },
  {
   "cell_type": "code",
   "execution_count": 4,
   "metadata": {},
   "outputs": [
    {
     "name": "stdout",
     "output_type": "stream",
     "text": [
      "25+3j\n",
      "34_2j\n",
      "Adddition = (25+345j) Sub = (25-339j) Division =  (0.008771929824561403-0.07309941520467836j)\n"
     ]
    }
   ],
   "source": [
    "a = complex(input())\n",
    "b = complex(input())\n",
    "\n",
    "s = a + b \n",
    "\n",
    "m = a - b\n",
    "\n",
    "d = a/b\n",
    "\n",
    "#f = a//b  # Floor division operation doesn't work with complex number\n",
    "\n",
    "#g = a%b   # Modulo oprations doesn't work with complex number\n",
    "\n",
    "print(\"Adddition =\" ,s,\"Sub =\",m, \"Division = \",d)"
   ]
  },
  {
   "cell_type": "markdown",
   "metadata": {},
   "source": [
    "Question 2 :\n",
    "Research on range() functions and its parameters. Create a markdown cell and write in your own\n",
    "words (no copy-paste from google please) what you understand about it. Implement a small\n",
    "program of your choice on the same."
   ]
  },
  {
   "cell_type": "code",
   "execution_count": 1,
   "metadata": {},
   "outputs": [
    {
     "name": "stdout",
     "output_type": "stream",
     "text": [
      "0\n",
      "1\n",
      "2\n",
      "3\n",
      "4\n"
     ]
    }
   ],
   "source": [
    "# 1. Range functon genrates integers give between the start & stop integer.\n",
    "# 2. Accespts 3 arguments start,stop,step. syntax :- range(start,stop,step)\n",
    "\n",
    "# Example Program\n",
    "\n",
    "for i in range(0,5):\n",
    "    print(i)"
   ]
  },
  {
   "cell_type": "markdown",
   "metadata": {},
   "source": [
    "Question 3:\n",
    "Consider two numbers. Perform their subtraction and if the result of subtraction is greater than\n",
    "25, print their multiplication result else print their division result.\n"
   ]
  },
  {
   "cell_type": "code",
   "execution_count": 6,
   "metadata": {},
   "outputs": [
    {
     "name": "stdout",
     "output_type": "stream",
     "text": [
      "5\n",
      "20\n",
      "0.25\n"
     ]
    }
   ],
   "source": [
    "num1 = int(input())\n",
    "num2 = int(input())\n",
    "\n",
    "num3 = num1 - num2\n",
    "\n",
    "if abs(num3) > 25:\n",
    "    print(num1*num2)\n",
    "else:\n",
    "    print(num1/num2)\n",
    "    "
   ]
  },
  {
   "cell_type": "markdown",
   "metadata": {},
   "source": [
    "Question 4:\n",
    "Consider a list of 10 elements of integer values. If the number in the list is divisible by 2, print the\n",
    "result as \"square of that number minus 2\"."
   ]
  },
  {
   "cell_type": "code",
   "execution_count": 15,
   "metadata": {},
   "outputs": [
    {
     "name": "stdout",
     "output_type": "stream",
     "text": [
      "2 34 62 1598 98 14 482 "
     ]
    }
   ],
   "source": [
    "li = [2,6,7,9,8,40,10,4,5,22]\n",
    "\n",
    "for i in li:\n",
    "    if i%2 == 0:\n",
    "        print(i*i-2,end = ' ' )"
   ]
  },
  {
   "cell_type": "markdown",
   "metadata": {},
   "source": [
    "Question 5:\n",
    "Consider a list of 10 elements. Print all the elements in the list which are greater than 7 when that\n",
    "number is divided 2."
   ]
  },
  {
   "cell_type": "code",
   "execution_count": 17,
   "metadata": {},
   "outputs": [
    {
     "name": "stdout",
     "output_type": "stream",
     "text": [
      "40\n",
      "22\n"
     ]
    }
   ],
   "source": [
    "li = [2,6,7,9,8,40,10,4,5,22]\n",
    "\n",
    "for i in li:\n",
    "    if i/2 > 7 :\n",
    "        print(i)"
   ]
  }
 ],
 "metadata": {
  "kernelspec": {
   "display_name": "Python 3",
   "language": "python",
   "name": "python3"
  },
  "language_info": {
   "codemirror_mode": {
    "name": "ipython",
    "version": 3
   },
   "file_extension": ".py",
   "mimetype": "text/x-python",
   "name": "python",
   "nbconvert_exporter": "python",
   "pygments_lexer": "ipython3",
   "version": "3.7.4"
  }
 },
 "nbformat": 4,
 "nbformat_minor": 2
}
