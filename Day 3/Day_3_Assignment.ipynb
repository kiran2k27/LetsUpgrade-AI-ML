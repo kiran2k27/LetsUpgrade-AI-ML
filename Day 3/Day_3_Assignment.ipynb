{
 "cells": [
  {
   "cell_type": "markdown",
   "metadata": {},
   "source": [
    "Question 1 :\n",
    "Write a program to subtract two complex numbers in Python."
   ]
  },
  {
   "cell_type": "code",
   "execution_count": 25,
   "metadata": {},
   "outputs": [
    {
     "name": "stdout",
     "output_type": "stream",
     "text": [
      "10+3j\n",
      "20+2j\n",
      "(-10+1j)\n"
     ]
    }
   ],
   "source": [
    "a = complex(input())\n",
    "b = complex(input())\n",
    "\n",
    "c = a - b\n",
    "\n",
    "print(c)"
   ]
  },
  {
   "cell_type": "markdown",
   "metadata": {},
   "source": [
    "Question 2 :\n",
    "Write a program to find the fourth root of a number."
   ]
  },
  {
   "cell_type": "code",
   "execution_count": 11,
   "metadata": {},
   "outputs": [
    {
     "name": "stdout",
     "output_type": "stream",
     "text": [
      "5\n",
      "625\n"
     ]
    }
   ],
   "source": [
    "i = int(input())\n",
    "r = 4\n",
    "\n",
    "o = i**4\n",
    "\n",
    "print(o)"
   ]
  },
  {
   "cell_type": "markdown",
   "metadata": {},
   "source": [
    "Question 3:\n",
    "Write a program to swap two numbers in Python with the help of a temporary variable.\n"
   ]
  },
  {
   "cell_type": "code",
   "execution_count": 16,
   "metadata": {},
   "outputs": [
    {
     "name": "stdout",
     "output_type": "stream",
     "text": [
      "5\n",
      "4\n",
      "num1 =  4 num2 =  5\n"
     ]
    }
   ],
   "source": [
    "n1 = int(input())\n",
    "n2 = int(input())\n",
    "\n",
    "t = n1\n",
    "n1 = n2\n",
    "n2 = t\n",
    "\n",
    "print(\"num1 = \",n1,\"num2 = \",n2 )"
   ]
  },
  {
   "cell_type": "markdown",
   "metadata": {},
   "source": [
    "Question 4:\n",
    "Write a program to swap two numbers in Python without using a temporary variable."
   ]
  },
  {
   "cell_type": "code",
   "execution_count": 9,
   "metadata": {},
   "outputs": [
    {
     "name": "stdout",
     "output_type": "stream",
     "text": [
      "5\n",
      "10\n",
      "First No =  10 Second No =  5\n"
     ]
    }
   ],
   "source": [
    "num1 = int(input())\n",
    "num2 = int(input())\n",
    "\n",
    "num1 = num1+num2\n",
    "num2 = num1 - num2 \n",
    "num1 = num1 - num2\n",
    "\n",
    "print(\"First No = \",num1,\"Second No = \",num2)\n"
   ]
  },
  {
   "cell_type": "markdown",
   "metadata": {},
   "source": [
    "Question 5:\n",
    "Write a program to convert fahrenheit to kelvin and celsius both."
   ]
  },
  {
   "cell_type": "code",
   "execution_count": 5,
   "metadata": {},
   "outputs": [
    {
     "name": "stdout",
     "output_type": "stream",
     "text": [
      "Enter the fahrenheit:60\n",
      "celcius =  15.555555555555555\n",
      "Kelvin  =  288.7055555555555\n"
     ]
    }
   ],
   "source": [
    "F = int(input(\"Enter the fahrenheit:\"))\n",
    "\n",
    "C = (F - 32) * 5/9\n",
    "K = (F - 32) * 5/9 + 273.15\n",
    "\n",
    "print(\"celcius = \",C)\n",
    "print(\"Kelvin  = \",K)"
   ]
  },
  {
   "cell_type": "markdown",
   "metadata": {},
   "source": [
    "Question 6:\n",
    "Write a program to demonstrate all the available data types in Python. Hint: Use type() function."
   ]
  },
  {
   "cell_type": "code",
   "execution_count": 26,
   "metadata": {},
   "outputs": [
    {
     "name": "stdout",
     "output_type": "stream",
     "text": [
      "<class 'int'>\n",
      "<class 'float'>\n",
      "<class 'str'>\n",
      "<class 'complex'>\n",
      "<class 'bool'>\n",
      "<class 'list'>\n",
      "<class 'tuple'>\n",
      "<class 'set'>\n",
      "<class 'dict'>\n"
     ]
    }
   ],
   "source": [
    "print(type(1))\n",
    "print(type(1.2))\n",
    "print(type('Hi'))\n",
    "print(type(54+2j))\n",
    "print(type(True))\n",
    "print(type([1,2,3,4]))\n",
    "print(type((1,2,3,4)))\n",
    "print(type({1,2,3,4}))\n",
    "print(type({1:\"fruit\"}))"
   ]
  },
  {
   "cell_type": "markdown",
   "metadata": {},
   "source": [
    "Question 7:\n",
    "Create a Markdown cell in jupyter and list the steps discussed in the session by Dr. Darshan\n",
    "Ingle sir to create Github profile and upload Githubs Assignment link."
   ]
  },
  {
   "cell_type": "markdown",
   "metadata": {},
   "source": [
    "step 1: create a public repository in git ,name the repos as 'LetsUpgrade-AI-ML'.  eg:-kiran2k27/LetsUpgrade-AI-ML \n",
    "\n",
    "step 2: open the 'LetsUpgrade-AI-ML' repository ,make sure you are on the code<> tab & click on 'uploading an existing file'.\n",
    "\n",
    "step 3: drag and drop the assignment folder which has the .ipypb assignment file.\n",
    "\n",
    "        For Eg :- If you are submitting Day 3 assignment create a folder in your local PC as 'Day 3' with assignment file in it drag & drop it on the github after clicking 'uploading an existing file'."
   ]
  }
 ],
 "metadata": {
  "kernelspec": {
   "display_name": "Python 3",
   "language": "python",
   "name": "python3"
  },
  "language_info": {
   "codemirror_mode": {
    "name": "ipython",
    "version": 3
   },
   "file_extension": ".py",
   "mimetype": "text/x-python",
   "name": "python",
   "nbconvert_exporter": "python",
   "pygments_lexer": "ipython3",
   "version": "3.7.4"
  }
 },
 "nbformat": 4,
 "nbformat_minor": 2
}
