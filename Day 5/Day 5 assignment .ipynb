{
 "cells": [
  {
   "cell_type": "markdown",
   "metadata": {},
   "source": [
    "Question 1 :\n",
    "Write a Python program to find the first 20 non-even prime natural numbers."
   ]
  },
  {
   "cell_type": "code",
   "execution_count": 6,
   "metadata": {},
   "outputs": [
    {
     "name": "stdout",
     "output_type": "stream",
     "text": [
      "1\n",
      "3\n",
      "5\n",
      "7\n",
      "9\n",
      "11\n",
      "13\n",
      "15\n",
      "17\n",
      "19\n",
      "21\n",
      "23\n",
      "25\n",
      "27\n",
      "29\n",
      "31\n",
      "33\n",
      "35\n",
      "37\n",
      "39\n",
      "41\n"
     ]
    }
   ],
   "source": [
    "cnt = 0\n",
    "for i in range(100):\n",
    "    if cnt > 20:\n",
    "        break\n",
    "    elif i%2 != 0:\n",
    "        print(i)\n",
    "        cnt += 1     "
   ]
  },
  {
   "cell_type": "markdown",
   "metadata": {},
   "source": [
    "Question 2 :\n",
    "Write a Python program to implement 15 functions of string."
   ]
  },
  {
   "cell_type": "code",
   "execution_count": 50,
   "metadata": {},
   "outputs": [
    {
     "name": "stdout",
     "output_type": "stream",
     "text": [
      "HELLOO\n",
      "helloo\n",
      "Helloo\n",
      "helloo\n",
      "['helloo']\n",
      "['helloo']\n",
      "h,e,l,l,o,o\n",
      "('he', 'l', 'loo')\n",
      "True\n",
      "False\n",
      "2\n",
      "2\n",
      "0\n",
      "True\n",
      "False\n"
     ]
    }
   ],
   "source": [
    "x = 'helloo'\n",
    "print(x.upper())\n",
    "print(x.lower())\n",
    "print(x.title())\n",
    "print(x.strip())\n",
    "print(x.rsplit())\n",
    "print(x.splitlines())\n",
    "print(','.join(x))\n",
    "print(x.partition('l'))\n",
    "print(x.islower())\n",
    "print(x.isupper())\n",
    "print(x.index('l'))\n",
    "print(x.count('l'))\n",
    "print(x.find('h'))\n",
    "print(x.endswith('o'))\n",
    "print(x.isdigit())"
   ]
  },
  {
   "cell_type": "markdown",
   "metadata": {},
   "source": [
    "Question 3:\n",
    "Write a Python program to check if the given string is a Palindrome or Anagram or None of them.\n",
    "Display the message accordingly to the user."
   ]
  },
  {
   "cell_type": "code",
   "execution_count": 4,
   "metadata": {},
   "outputs": [
    {
     "name": "stdout",
     "output_type": "stream",
     "text": [
      "Enter the string : listen\n",
      "Enter the string 2: silent\n",
      "Given string is a Anagram\n"
     ]
    }
   ],
   "source": [
    "s1 = str(input('Enter the string : '))\n",
    "s2 = str(input('Enter the string 2: '))\n",
    "\n",
    "\n",
    "if s1[::-1] == s1:\n",
    "    print('Given string is a palindrome')\n",
    "elif sorted(s1) == sorted(s2):\n",
    "    print('Given string is a Anagram')\n",
    "else:\n",
    "    print('None')"
   ]
  },
  {
   "cell_type": "markdown",
   "metadata": {},
   "source": [
    "Question 4:\n",
    "Write a Python's user defined function that removes all the additional characters from the string\n",
    "and converts it finally to lower case using built-in lower(). eg: If the string is \"Dr. Darshan Ingle\n",
    "@AI-ML Trainer\", then the output be \"drdarshaningleaimltrainer\"."
   ]
  },
  {
   "cell_type": "code",
   "execution_count": 10,
   "metadata": {},
   "outputs": [
    {
     "name": "stdout",
     "output_type": "stream",
     "text": [
      "Enter the string : Dr. Darshan Ingle @AI-ML Trainer\n",
      "drdarshaningleaimltrainer\n"
     ]
    }
   ],
   "source": [
    "x = input('Enter the string : ')\n",
    "\n",
    "rm_chars = ['.','@','-',' ']\n",
    "\n",
    "for i in rm_chars:\n",
    "    x = x.replace(i,'')\n",
    "\n",
    "print(x.lower())\n",
    "    "
   ]
  }
 ],
 "metadata": {
  "kernelspec": {
   "display_name": "Python 3",
   "language": "python",
   "name": "python3"
  },
  "language_info": {
   "codemirror_mode": {
    "name": "ipython",
    "version": 3
   },
   "file_extension": ".py",
   "mimetype": "text/x-python",
   "name": "python",
   "nbconvert_exporter": "python",
   "pygments_lexer": "ipython3",
   "version": "3.7.4"
  }
 },
 "nbformat": 4,
 "nbformat_minor": 2
}
